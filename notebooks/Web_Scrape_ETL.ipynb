{
 "cells": [
  {
   "cell_type": "markdown",
   "metadata": {},
   "source": [
    "FINAL TEST\n",
    "insider transactions, trading volume, analyst ratings, price fluctuations, market capitalization\n",
    "Insider Transactions: Located under the \"Holders\" section, it lists the buys and sells by company insiders.\n",
    "Trading Volume: Found on the \"Summary\" and \"Historical Data\" pages, it shows the number of shares traded during a given period.\n",
    "Analyst Ratings: Located in the \"Analysis\" section, it provides the ratings and price targets set by financial analysts."
   ]
  },
  {
   "cell_type": "code",
   "execution_count": 44,
   "metadata": {},
   "outputs": [],
   "source": [
    "from selenium import webdriver\n",
    "from selenium.webdriver.common.by import By\n",
    "from selenium.webdriver.chrome.service import Service\n",
    "from webdriver_manager.chrome import ChromeDriverManager\n",
    "import pandas as pd\n",
    "import time\n",
    "import os\n",
    "from dotenv import load_dotenv\n",
    "from sqlalchemy import create_engine\n",
    "\n",
    "load_dotenv()\n",
    "\n",
    "username = os.getenv('username')\n",
    "password = os.getenv('password')\n",
    "host = os.getenv('host')\n",
    "port = os.getenv('port')\n",
    "database = os.getenv('database')\n",
    "\n",
    "engine = create_engine(f'mysql+pymysql://{username}:{password}@{host}:{port}/{database}')\n",
    "\n",
    "# Set up the Selenium driver\n",
    "service = Service(ChromeDriverManager().install())\n",
    "driver = webdriver.Chrome(service=service)\n",
    "\n"
   ]
  },
  {
   "cell_type": "code",
   "execution_count": 45,
   "metadata": {},
   "outputs": [],
   "source": [
    "load_dotenv()\n",
    "\n",
    "username = os.getenv('username')\n",
    "password = os.getenv('password')\n",
    "host = os.getenv('host')\n",
    "port = os.getenv('port')\n",
    "database = os.getenv('database')\n",
    "\n",
    "engine = create_engine(f'mysql+pymysql://{username}:{password}@{host}:{port}/{database}')"
   ]
  },
  {
   "cell_type": "code",
   "execution_count": 46,
   "metadata": {},
   "outputs": [],
   "source": [
    "# Set up the Selenium driver\n",
    "service = Service(ChromeDriverManager().install())\n",
    "driver = webdriver.Chrome(service=service)"
   ]
  },
  {
   "cell_type": "code",
   "execution_count": 47,
   "metadata": {},
   "outputs": [],
   "source": [
    "def extract_table_data(table_element):\n",
    "    rows = table_element.find_elements(By.TAG_NAME, 'tr')\n",
    "    headers = [header.text for header in rows[0].find_elements(By.TAG_NAME, 'th')]\n",
    "    data = [[td.text for td in row.find_elements(By.TAG_NAME, 'td')] for row in rows[1:]]\n",
    "    return pd.DataFrame(data, columns=headers)\n",
    "\n",
    "def dataframe_to_sql(df, table_name, engine):\n",
    "    df.to_sql(name=table_name, con=engine, if_exists='append', index=False)"
   ]
  },
  {
   "cell_type": "code",
   "execution_count": 48,
   "metadata": {},
   "outputs": [],
   "source": [
    "# List of symbols to iterate over\n",
    "symbols = [\"JPM\", \"GS\", \"C\", \"JLL\", \"DIS\", \"TPR\", \"F\", \"XOM\", \"AAPL\", \"AMZN\", \"PFE\", \"MRK\"]"
   ]
  },
  {
   "cell_type": "code",
   "execution_count": 49,
   "metadata": {},
   "outputs": [],
   "source": [
    "# Collect data for each symbol\n",
    "all_insider_transactions = []\n",
    "all_trading_volumes = []\n",
    "all_earnings_estimates = []\n",
    "all_eps_trends = []\n",
    "all_eps_revisions = []\n",
    "all_growth_estimates = []"
   ]
  },
  {
   "cell_type": "code",
   "execution_count": 50,
   "metadata": {},
   "outputs": [],
   "source": [
    "for symbol in symbols:\n",
    "    # Insider Transactions\n",
    "    url = f'https://finance.yahoo.com/quote/{symbol}/insider-transactions'\n",
    "    driver.get(url)\n",
    "    time.sleep(10)\n",
    "    insider_table = driver.find_element(By.CLASS_NAME, 'svelte-1s2g2l0')\n",
    "    insider_transactions_df = extract_table_data(insider_table)\n",
    "    insider_transactions_df['Symbol'] = symbol\n",
    "    all_insider_transactions.append(insider_transactions_df)\n",
    "\n",
    "    # Trading Volume\n",
    "    url = f'https://finance.yahoo.com/quote/{symbol}/history?filter=history'\n",
    "    driver.get(url)\n",
    "    time.sleep(6)\n",
    "    trading_volume_table = driver.find_element(By.CSS_SELECTOR, '.table.svelte-ewueuo')\n",
    "    trading_volume_df = extract_table_data(trading_volume_table)\n",
    "    trading_volume_df['Symbol'] = symbol\n",
    "    all_trading_volumes.append(trading_volume_df)\n",
    "\n",
    "    # Analyst Ratings\n",
    "    url = f'https://finance.yahoo.com/quote/{symbol}/analysis'\n",
    "    driver.get(url)\n",
    "    time.sleep(10)\n",
    "    categories = {\n",
    "        'earningsEstimate': all_earnings_estimates,\n",
    "        'epsTrend': all_eps_trends,\n",
    "        'epsRevisions': all_eps_revisions,\n",
    "        'growthEstimate': all_growth_estimates\n",
    "    }\n",
    "    for category, container in categories.items():\n",
    "        section_element = driver.find_element(By.XPATH, f'//section[@data-testid=\"{category}\"]')\n",
    "        df = extract_table_data(section_element)\n",
    "        df['Symbol'] = symbol\n",
    "        container.append(df)"
   ]
  },
  {
   "cell_type": "code",
   "execution_count": null,
   "metadata": {},
   "outputs": [],
   "source": []
  },
  {
   "cell_type": "code",
   "execution_count": null,
   "metadata": {},
   "outputs": [],
   "source": [
    "# Concatenate all dataframes for each category and upload to SQL\n",
    "dataframe_to_sql(pd.concat(all_insider_transactions, ignore_index=True), 'insider_transactions')\n",
    "dataframe_to_sql(pd.concat(all_trading_volumes, ignore_index=True), 'trading_volume')\n",
    "dataframe_to_sql(pd.concat(all_earnings_estimates, ignore_index=True), 'earnings_estimate')\n",
    "dataframe_to_sql(pd.concat(all_eps_trends, ignore_index=True), 'eps_trend')\n",
    "dataframe_to_sql(pd.concat(all_eps_revisions, ignore_index=True), 'eps_revisions')\n",
    "dataframe_to_sql(pd.concat(all_growth_estimates, ignore_index=True), 'growth_estimate')"
   ]
  },
  {
   "cell_type": "code",
   "execution_count": null,
   "metadata": {},
   "outputs": [],
   "source": [
    "# Close the Selenium driver\n",
    "driver.quit()"
   ]
  },
  {
   "cell_type": "code",
   "execution_count": 31,
   "metadata": {},
   "outputs": [],
   "source": [
    "# Insider Transactions for each symbol\n",
    "for symbol in symbols:\n",
    "    url = f'https://finance.yahoo.com/quote/{symbol}/insider-transactions'\n",
    "    driver.get(url)\n",
    "    time.sleep(10)  # Adjust with WebDriverWait as needed\n",
    "    insider_table = driver.find_element(By.CLASS_NAME, 'svelte-1s2g2l0')\n",
    "    insider_transactions_df = extract_table_data(insider_table)\n",
    "    insider_transactions_df['Symbol'] = symbol\n",
    "\n"
   ]
  },
  {
   "cell_type": "code",
   "execution_count": 32,
   "metadata": {},
   "outputs": [],
   "source": [
    "# Loop over symbols and scrape trading volume\n",
    "for symbol in symbols:\n",
    "    url = f'https://finance.yahoo.com/quote/{symbol}/history?filter=history'\n",
    "    driver.get(url)\n",
    "    time.sleep(6)  # Adjust with WebDriverWait as needed\n",
    "    \n",
    "    trading_volume_table = driver.find_element(By.CSS_SELECTOR, '.table.svelte-ewueuo')\n",
    "     = extract_table_data(trading_volume_table)"
   ]
  },
  {
   "cell_type": "code",
   "execution_count": 33,
   "metadata": {},
   "outputs": [],
   "source": [
    "def scrape_ratings_category(symbols, category):\n",
    "    ratings_data = []\n",
    "    for symbol in symbols:\n",
    "        url = f'https://finance.yahoo.com/quote/{symbol}/analysis'\n",
    "        driver.get(url)\n",
    "        time.sleep(10)  # Ensure the page has loaded\n",
    "        section_element = driver.find_element(By.XPATH, f'//section[@data-testid=\"{category}\"]')\n",
    "        df = extract_table_data(section_element)\n",
    "        df['Symbol'] = symbol\n",
    "        ratings_data.append(df)\n",
    "    return pd.concat(ratings_data, ignore_index=True)\n"
   ]
  },
  {
   "cell_type": "code",
   "execution_count": null,
   "metadata": {},
   "outputs": [],
   "source": [
    "symbols = [\"JPM\", \"GS\", \"C\", \"JLL\", \"DIS\", \"TPR\", \"F\", \"XOM\", \"AAPL\", \"AMZN\", \"PFE\", \"MRK\"]\n",
    "insider_transactions_df = scrape_insider_transactions(symbols)\n",
    "trading_volume_df = scrape_trading_volume(symbols)\n",
    "earnings_estimate_df = scrape_ratings_category(symbols, 'earningsEstimate')\n",
    "eps_trend_df = scrape_ratings_category(symbols, 'epsTrend')\n",
    "eps_revisions_df = scrape_ratings_category(symbols, 'epsRevisions')\n",
    "growth_estimate_df = scrape_ratings_category(symbols, 'growthEstimate')"
   ]
  },
  {
   "cell_type": "code",
   "execution_count": 34,
   "metadata": {},
   "outputs": [],
   "source": [
    "# Close the Selenium driver\n",
    "driver.quit()"
   ]
  },
  {
   "cell_type": "code",
   "execution_count": null,
   "metadata": {},
   "outputs": [],
   "source": [
    "dataframe_to_sql(insider_transactions_df, 'insider_transactions', engine)"
   ]
  }
 ],
 "metadata": {
  "kernelspec": {
   "display_name": "base",
   "language": "python",
   "name": "python3"
  },
  "language_info": {
   "codemirror_mode": {
    "name": "ipython",
    "version": 3
   },
   "file_extension": ".py",
   "mimetype": "text/x-python",
   "name": "python",
   "nbconvert_exporter": "python",
   "pygments_lexer": "ipython3",
   "version": "3.11.5"
  }
 },
 "nbformat": 4,
 "nbformat_minor": 2
}
