{
 "cells": [
  {
   "cell_type": "code",
   "execution_count": 25,
   "metadata": {},
   "outputs": [],
   "source": [
    "import requests\n",
    "import pandas as pd\n",
    "import time\n",
    "from datetime import datetime, timedelta\n",
    "from sqlalchemy import create_engine\n",
    "from dotenv import load_dotenv\n",
    "import os"
   ]
  },
  {
   "cell_type": "code",
   "execution_count": 8,
   "metadata": {},
   "outputs": [],
   "source": [
    "def fetch_data_from_api(url, params=None):\n",
    "    response = requests.get(url, params=params)\n",
    "    if response.status_code == 200:\n",
    "        return response.json()\n",
    "    else:\n",
    "        print(f\"Error fetching data: {response.text}\")\n",
    "        return {}\n",
    "\n",
    "def get_quotes(symbol, api_key):\n",
    "    quote_url = f\"https://finnhub.io/api/v1/quote?symbol={symbol}&token={api_key}\"\n",
    "    return fetch_data_from_api(quote_url)\n",
    "\n",
    "def get_financials_reported(symbol, api_key):\n",
    "    financial_url = f\"https://finnhub.io/api/v1/stock/financials-reported?symbol={symbol}&token={api_key}\"\n",
    "    return fetch_data_from_api(financial_url)\n",
    "\n",
    "def get_usa_spending(symbol, api_key):\n",
    "    spending_url = f\"https://finnhub.io/api/v1/stock/usa-spending?symbol={symbol}&token={api_key}\"\n",
    "    return fetch_data_from_api(spending_url)"
   ]
  },
  {
   "cell_type": "code",
   "execution_count": 9,
   "metadata": {},
   "outputs": [],
   "source": [
    "def extract_financial_data(data, section, concepts=None):\n",
    "    financial_data = []\n",
    "    if 'data' in data:\n",
    "        for report in data['data']:\n",
    "            if 'report' in report and section in report['report']:\n",
    "                section_data = report['report'][section]\n",
    "                if concepts:  # Filter data based on the list of important concepts\n",
    "                    section_data = [item for item in section_data if item['concept'] in concepts]\n",
    "                financial_data.extend(section_data)\n",
    "    return financial_data\n"
   ]
  },
  {
   "cell_type": "code",
   "execution_count": 26,
   "metadata": {},
   "outputs": [
    {
     "name": "stdout",
     "output_type": "stream",
     "text": [
      "Data uploaded successfully.\n"
     ]
    }
   ],
   "source": [
    "# Load environment variables from .env file\n",
    "load_dotenv()\n",
    "\n",
    "# Define your connection parameters\n",
    "username = os.getenv('username')  # Your RDS username\n",
    "password = os.getenv('password')  # Your RDS password\n",
    "host = os.getenv('host')  # Your RDS endpoint\n",
    "port = os.getenv('port')  # Default MySQL port\n",
    "database = os.getenv('database')  # The name of the database you want to create\n",
    "\n",
    "api_key = os.getenv('FINNHUB_API_KEY')  # Replace with your actual API key\n",
    "\n",
    "# Create an engine to connect to MySQL Database using a hardcoded URL for testing\n",
    "engine = create_engine(f'mysql+pymysql://{username}:{password}@{host}:{port}/{database}')\n",
    "\n",
    "end_date = datetime.now() - timedelta(days=1)\n",
    "start_date = end_date - timedelta(days=364)\n",
    "formatted_start_date = datetime.strptime(start_date.strftime('%Y-%m-%d'), '%Y-%m-%d')\n",
    "formatted_end_date = datetime.strptime(end_date.strftime('%Y-%m-%d'), '%Y-%m-%d')\n",
    "\n",
    "company_symbols = [\"JPM\", \"GS\", \"C\", \"JLL\", \"DIS\", \"TPR\", \"F\", \"XOM\", \"AAPL\", \"AMZN\", \"PFE\", \"MRK\"]\n",
    "concepts = ['us-gaap_AssetsCurrent', 'us-gaap_AssetsNoncurrent', 'us-gaap_Assets',\n",
    "            'us-gaap_LiabilitiesCurrent', 'us-gaap_LiabilitiesNoncurrent', 'us-gaap_Liabilities',\n",
    "            'us-gaap_StockholdersEquity', 'us-gaap_CommonStocksIncludingAdditionalPaidInCapital',\n",
    "            'us-gaap_RetainedEarningsAccumulatedDeficit']\n",
    "\n",
    "quotes_data = []\n",
    "financials_data = []\n",
    "spending_data = []\n",
    "\n",
    "for symbol in company_symbols:\n",
    "    # Fetch and process quotes\n",
    "    quote = get_quotes(symbol, api_key)\n",
    "    if quote:\n",
    "        quote['symbol'] = symbol\n",
    "        quotes_data.append(quote)\n",
    "\n",
    "    # Fetch and process financials\n",
    "    financial_data = get_financials_reported(symbol, api_key)\n",
    "    bs_data = extract_financial_data(financial_data, 'bs', concepts)\n",
    "    for item in bs_data:\n",
    "        item['symbol'] = symbol\n",
    "    financials_data.extend(bs_data)\n",
    "\n",
    "    # Fetch and process spending data\n",
    "    spend_data = get_usa_spending(symbol, api_key)\n",
    "    if 'data' in spend_data:\n",
    "        for spend in spend_data['data']:\n",
    "            spend_date = pd.to_datetime(spend['actionDate'])\n",
    "            if formatted_start_date <= spend_date <= formatted_end_date:\n",
    "                spend['symbol'] = symbol\n",
    "                spending_data.append(spend)\n",
    "\n",
    "    time.sleep(1)  # Respect API rate limits\n",
    "\n",
    "# Convert lists to DataFrames\n",
    "quotes_df = pd.DataFrame(quotes_data)\n",
    "financials_df = pd.DataFrame(financials_data)\n",
    "spending_df = pd.DataFrame(spending_data)\n",
    "\n",
    "# Upload each DataFrame to the MySQL database\n",
    "quotes_df.to_sql(name='quotes', con=engine, if_exists='replace', index=False)\n",
    "financials_df.to_sql(name='financials_reported', con=engine, if_exists='replace', index=False)\n",
    "spending_df.to_sql(name='usa_spending', con=engine, if_exists='replace', index=False)\n",
    "\n",
    "print(\"Data uploaded successfully.\")"
   ]
  },
  {
   "cell_type": "code",
   "execution_count": 24,
   "metadata": {},
   "outputs": [
    {
     "name": "stdout",
     "output_type": "stream",
     "text": [
      "RDS instance connection successful!\n",
      "Connected successfully to the database 'mayah_bosworth_sql_project'!\n"
     ]
    }
   ],
   "source": [
    "# Load environment variables from .env file\n",
    "load_dotenv()\n",
    "\n",
    "# Define your connection parameters\n",
    "username = os.getenv('username')  # Your RDS username\n",
    "password = os.getenv('password')  # Your RDS password\n",
    "host = os.getenv('host')  # Your RDS endpoint\n",
    "port = os.getenv('port')  # Default MySQL port\n",
    "database = os.getenv('database')  # The name of the database you want to create\n",
    "\n",
    "# Connect to the database without specifying the database name first\n",
    "# This checks if your instance connection is fine\n",
    "test_engine = create_engine(f'mysql+pymysql://{username}:{password}@{host}:{port}')\n",
    "\n",
    "try:\n",
    "    with test_engine.connect() as test_connection:\n",
    "        print(\"RDS instance connection successful!\")\n",
    "except Exception as e:\n",
    "    print(f\"Failed to connect to RDS instance: {e}\")\n",
    "\n",
    "# If the instance connection is successful, connect to your specific database\n",
    "engine = create_engine(f'mysql+pymysql://{username}:{password}@{host}:{port}/{database}')\n",
    "\n",
    "try:\n",
    "    with engine.connect() as connection:\n",
    "        print(f\"Connected successfully to the database '{database}'!\")\n",
    "except Exception as e:\n",
    "    print(f\"Failed to connect to the database '{database}': {e}\")\n",
    "\n"
   ]
  }
 ],
 "metadata": {
  "kernelspec": {
   "display_name": "base",
   "language": "python",
   "name": "python3"
  },
  "language_info": {
   "codemirror_mode": {
    "name": "ipython",
    "version": 3
   },
   "file_extension": ".py",
   "mimetype": "text/x-python",
   "name": "python",
   "nbconvert_exporter": "python",
   "pygments_lexer": "ipython3",
   "version": "3.11.5"
  }
 },
 "nbformat": 4,
 "nbformat_minor": 2
}
